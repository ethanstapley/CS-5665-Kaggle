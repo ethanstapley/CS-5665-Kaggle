{
 "cells": [
  {
   "cell_type": "code",
   "execution_count": 1,
   "id": "ab2ea746",
   "metadata": {
    "execution": {
     "iopub.execute_input": "2025-04-10T07:56:03.581545Z",
     "iopub.status.busy": "2025-04-10T07:56:03.581260Z",
     "iopub.status.idle": "2025-04-10T07:56:07.088262Z",
     "shell.execute_reply": "2025-04-10T07:56:07.087340Z"
    },
    "papermill": {
     "duration": 3.513094,
     "end_time": "2025-04-10T07:56:07.089926",
     "exception": false,
     "start_time": "2025-04-10T07:56:03.576832",
     "status": "completed"
    },
    "tags": []
   },
   "outputs": [],
   "source": [
    "# Imports\n",
    "import pandas as pd\n",
    "import numpy as np\n",
    "import re\n",
    "import matplotlib.pyplot as plt\n",
    "from scipy.stats import rankdata\n",
    "\n",
    "from sklearn.feature_extraction.text import TfidfVectorizer\n",
    "from sklearn.linear_model import Ridge\n",
    "from sklearn.pipeline import FeatureUnion, Pipeline\n",
    "from sklearn.base import BaseEstimator, TransformerMixin\n",
    "from scipy.stats import rankdata"
   ]
  },
  {
   "cell_type": "code",
   "execution_count": 2,
   "id": "e328eb68",
   "metadata": {
    "execution": {
     "iopub.execute_input": "2025-04-10T07:56:07.096647Z",
     "iopub.status.busy": "2025-04-10T07:56:07.096246Z",
     "iopub.status.idle": "2025-04-10T07:56:07.100744Z",
     "shell.execute_reply": "2025-04-10T07:56:07.099896Z"
    },
    "papermill": {
     "duration": 0.009199,
     "end_time": "2025-04-10T07:56:07.102095",
     "exception": false,
     "start_time": "2025-04-10T07:56:07.092896",
     "status": "completed"
    },
    "tags": []
   },
   "outputs": [],
   "source": [
    "def clean_text(text):\n",
    "    text = re.sub(r\"http\\S+\", \"\", text)\n",
    "    text = re.sub(r\"[^a-zA-Z0-9\\s]\", \"\", text)\n",
    "    return text"
   ]
  },
  {
   "cell_type": "code",
   "execution_count": null,
   "id": "45a6f517",
   "metadata": {
    "execution": {
     "iopub.execute_input": "2025-04-10T07:56:07.108591Z",
     "iopub.status.busy": "2025-04-10T07:56:07.108307Z",
     "iopub.status.idle": "2025-04-10T07:56:07.115727Z",
     "shell.execute_reply": "2025-04-10T07:56:07.115089Z"
    },
    "papermill": {
     "duration": 0.01235,
     "end_time": "2025-04-10T07:56:07.117072",
     "exception": false,
     "start_time": "2025-04-10T07:56:07.104722",
     "status": "completed"
    },
    "tags": []
   },
   "outputs": [],
   "source": [
    "class TextFeatures(BaseEstimator, TransformerMixin):\n",
    "    def __init__(self, swear_list=None):\n",
    "        self.swear_list = swear_list\n",
    "\n",
    "    def fit(self, X, y=None):\n",
    "        if self.swear_list is None:\n",
    "            self.swear_list_ = {\"fuck\", \"shit\", \"bitch\", \"damn\", \"ass\", \"crap\", \"dick\"}\n",
    "        else:\n",
    "            self.swear_list_ = set(self.swear_list)\n",
    "        return self\n",
    "\n",
    "    def transform(self, X):\n",
    "        features = pd.DataFrame()\n",
    "        features[\"text_length\"] = X.apply(len)\n",
    "        features[\"word_count\"] = X.apply(lambda x: len(x.split()))\n",
    "        punctuations = \"!?.,;:\"\n",
    "        features[\"punct_count\"] = X.apply(lambda x: sum(1 for char in x if char in punctuations))\n",
    "        features[\"uppercase_ratio\"] = X.apply(lambda x: sum(1 for c in x if c.isupper()) / (len(x) + 1))\n",
    "        features[\"swear_word_count\"] = X.apply(\n",
    "            lambda x: sum(1 for word in x.lower().split() if word in self.swear_list_)\n",
    "        )\n",
    "        return features.values\n"
   ]
  },
  {
   "cell_type": "code",
   "execution_count": 4,
   "id": "0e7e5e31",
   "metadata": {
    "execution": {
     "iopub.execute_input": "2025-04-10T07:56:07.123552Z",
     "iopub.status.busy": "2025-04-10T07:56:07.122902Z",
     "iopub.status.idle": "2025-04-10T07:56:11.861550Z",
     "shell.execute_reply": "2025-04-10T07:56:11.860608Z"
    },
    "papermill": {
     "duration": 4.743586,
     "end_time": "2025-04-10T07:56:11.863244",
     "exception": false,
     "start_time": "2025-04-10T07:56:07.119658",
     "status": "completed"
    },
    "tags": []
   },
   "outputs": [],
   "source": [
    "train_df = pd.read_csv(\"/kaggle/input/train-ranking/train.csv\")\n",
    "val_df = pd.read_csv(\"/kaggle/input/jigsaw-toxic-severity-rating/validation_data.csv\")\n",
    "\n",
    "# Clean text\n",
    "train_df[\"clean_text\"] = train_df[\"comment_text\"].apply(clean_text)\n",
    "val_less = val_df[\"less_toxic\"].apply(clean_text)\n",
    "val_more = val_df[\"more_toxic\"].apply(clean_text)\n",
    "val_comments = pd.concat([val_less, val_more]).unique()\n",
    "train_df = train_df[~train_df[\"clean_text\"].isin(val_comments)]\n"
   ]
  },
  {
   "cell_type": "code",
   "execution_count": 5,
   "id": "6ab316a6",
   "metadata": {
    "execution": {
     "iopub.execute_input": "2025-04-10T07:56:11.869766Z",
     "iopub.status.busy": "2025-04-10T07:56:11.869472Z",
     "iopub.status.idle": "2025-04-10T07:56:11.943409Z",
     "shell.execute_reply": "2025-04-10T07:56:11.942681Z"
    },
    "papermill": {
     "duration": 0.078885,
     "end_time": "2025-04-10T07:56:11.944872",
     "exception": false,
     "start_time": "2025-04-10T07:56:11.865987",
     "status": "completed"
    },
    "tags": []
   },
   "outputs": [],
   "source": [
    "# Create severity scores\n",
    "label_cols = [\"toxic\", \"severe_toxic\", \"obscene\", \"threat\", \"insult\", \"identity_hate\"]\n",
    "weights = [.32, 1.82, .16, 1.5, .64, 1.5]\n",
    "train_df[\"severity\"] = train_df[label_cols].dot(weights)\n",
    "\n",
    "# Balance the dataset\n",
    "toxic_df = train_df[train_df[\"severity\"] > 0]\n",
    "non_toxic_df = train_df[train_df[\"severity\"] == 0].sample(n=len(toxic_df), random_state=42)\n",
    "balanced_df = pd.concat([toxic_df, non_toxic_df]).sample(frac=1.0, random_state=42).reset_index(drop=True)"
   ]
  },
  {
   "cell_type": "code",
   "execution_count": null,
   "id": "c61988be",
   "metadata": {
    "execution": {
     "iopub.execute_input": "2025-04-10T07:56:11.951433Z",
     "iopub.status.busy": "2025-04-10T07:56:11.950703Z",
     "iopub.status.idle": "2025-04-10T07:56:12.347267Z",
     "shell.execute_reply": "2025-04-10T07:56:12.346395Z"
    },
    "papermill": {
     "duration": 0.401161,
     "end_time": "2025-04-10T07:56:12.348649",
     "exception": false,
     "start_time": "2025-04-10T07:56:11.947488",
     "status": "completed"
    },
    "tags": []
   },
   "outputs": [
    {
     "name": "stdout",
     "output_type": "stream",
     "text": [
      "Balanced Training Severity Statistics:\n",
      "count    25460.000000\n",
      "mean         0.518731\n",
      "std          0.859296\n",
      "min          0.000000\n",
      "25%          0.000000\n",
      "50%          0.080000\n",
      "75%          0.800000\n",
      "max          5.940000\n",
      "Name: severity, dtype: float64\n"
     ]
    },
    {
     "data": {
      "image/png": "[encoded data removed]",
      "text/plain": [
       "<Figure size 1000x600 with 1 Axes>"
      ]
     },
     "metadata": {},
     "output_type": "display_data"
    }
   ],
   "source": [
    "# severity distribution\n",
    "print(\"Balanced Training Severity Statistics:\")\n",
    "print(balanced_df[\"severity\"].describe())\n",
    "plt.figure(figsize=(10,6))\n",
    "plt.hist(balanced_df[\"severity\"], bins=50, edgecolor='k')\n",
    "plt.xlabel(\"Severity\")\n",
    "plt.ylabel(\"Frequency\")\n",
    "plt.title(\"Balanced Training Data Severity Distribution\")\n",
    "plt.show()"
   ]
  },
  {
   "cell_type": "code",
   "execution_count": null,
   "id": "71ff5628",
   "metadata": {
    "execution": {
     "iopub.execute_input": "2025-04-10T07:56:12.355766Z",
     "iopub.status.busy": "2025-04-10T07:56:12.355501Z",
     "iopub.status.idle": "2025-04-10T07:59:24.631767Z",
     "shell.execute_reply": "2025-04-10T07:59:24.630696Z"
    },
    "papermill": {
     "duration": 192.283883,
     "end_time": "2025-04-10T07:59:24.635615",
     "exception": false,
     "start_time": "2025-04-10T07:56:12.351732",
     "status": "completed"
    },
    "tags": []
   },
   "outputs": [
    {
     "name": "stdout",
     "output_type": "stream",
     "text": [
      "Fitting 3 folds for each of 48 candidates, totalling 144 fits\n",
      "Best Parameters:\n",
      "{'features__tfidf__max_df': 0.75, 'features__tfidf__min_df': 3, 'features__tfidf__ngram_range': (1, 1), 'ridge__alpha': 1.0, 'ridge__fit_intercept': True}\n"
     ]
    }
   ],
   "source": [
    "from sklearn.model_selection import GridSearchCV\n",
    "\n",
    "# Build pipeline\n",
    "tfidf = TfidfVectorizer(max_features=5000, stop_words='english')\n",
    "combined_features = FeatureUnion([\n",
    "    (\"tfidf\", tfidf),\n",
    "    (\"extra_features\", TextFeatures())\n",
    "])\n",
    "pipeline = Pipeline([\n",
    "    (\"features\", combined_features),\n",
    "    (\"ridge\", Ridge(solver='lsqr', max_iter=5000))\n",
    "])\n",
    "\n",
    "# hyperparameter grid\n",
    "param_grid = {\n",
    "    'features__tfidf__min_df': [1, 3],\n",
    "    'features__tfidf__max_df': [0.75, 1.0],\n",
    "    'features__tfidf__ngram_range': [(1,1), (1,2)],\n",
    "    'ridge__alpha': [0.1, 1.0, 10.0],\n",
    "    'ridge__fit_intercept': [True, False],\n",
    "}\n",
    "\n",
    "# simple scoring method for now: R^2 \n",
    "grid = GridSearchCV(pipeline, param_grid, scoring='r2', cv=3, verbose=2, n_jobs=-1)\n",
    "\n",
    "# Train on balanced data\n",
    "X_train = balanced_df[\"clean_text\"]\n",
    "y_train = balanced_df[\"severity\"]\n",
    "grid.fit(X_train, y_train)\n",
    "\n",
    "print(\"Best Parameters:\")\n",
    "print(grid.best_params_)\n",
    "\n",
    "# Replace pipeline with the best model\n",
    "pipeline = grid.best_estimator_\n"
   ]
  },
  {
   "cell_type": "code",
   "execution_count": null,
   "id": "95487fc0",
   "metadata": {
    "execution": {
     "iopub.execute_input": "2025-04-10T07:59:24.643429Z",
     "iopub.status.busy": "2025-04-10T07:59:24.643084Z",
     "iopub.status.idle": "2025-04-10T07:59:25.529366Z",
     "shell.execute_reply": "2025-04-10T07:59:25.528438Z"
    },
    "papermill": {
     "duration": 0.892178,
     "end_time": "2025-04-10T07:59:25.530954",
     "exception": false,
     "start_time": "2025-04-10T07:59:24.638776",
     "status": "completed"
    },
    "tags": []
   },
   "outputs": [
    {
     "name": "stdout",
     "output_type": "stream",
     "text": [
      "<class 'pandas.core.frame.DataFrame'>\n",
      "RangeIndex: 7537 entries, 0 to 7536\n",
      "Data columns (total 2 columns):\n",
      " #   Column      Non-Null Count  Dtype \n",
      "---  ------      --------------  ----- \n",
      " 0   comment_id  7537 non-null   int64 \n",
      " 1   text        7537 non-null   object\n",
      "dtypes: int64(1), object(1)\n",
      "memory usage: 117.9+ KB\n",
      "None\n",
      "Submission file saved as submission.csv (with rank-normalized scores)\n"
     ]
    }
   ],
   "source": [
    "from scipy.stats import rankdata\n",
    "\n",
    "# Predict on test set\n",
    "test_df = pd.read_csv(\"/kaggle/input/jigsaw-toxic-severity-rating/comments_to_score.csv\")\n",
    "print(test_df.info())\n",
    "\n",
    "test_df[\"clean_text\"] = test_df[\"text\"].apply(clean_text)\n",
    "raw_predictions = pipeline.predict(test_df[\"clean_text\"])\n",
    "\n",
    "# Convert raw predictions to unique ranks\n",
    "ranked_scores = rankdata(raw_predictions, method=\"ordinal\")\n",
    "test_df[\"score\"] = ranked_scores\n",
    "\n",
    "submission = test_df[[\"comment_id\", \"score\"]]\n",
    "submission.to_csv(\"submission.csv\", index=False)\n",
    "print(\"Submission file saved as submission.csv (with rank-normalized scores)\")\n"
   ]
  },
  {
   "cell_type": "code",
   "execution_count": 9,
   "id": "bc62a2ea",
   "metadata": {
    "execution": {
     "iopub.execute_input": "2025-04-10T07:59:25.539081Z",
     "iopub.status.busy": "2025-04-10T07:59:25.538735Z",
     "iopub.status.idle": "2025-04-10T07:59:25.773366Z",
     "shell.execute_reply": "2025-04-10T07:59:25.772424Z"
    },
    "papermill": {
     "duration": 0.240212,
     "end_time": "2025-04-10T07:59:25.774769",
     "exception": false,
     "start_time": "2025-04-10T07:59:25.534557",
     "status": "completed"
    },
    "tags": []
   },
   "outputs": [
    {
     "name": "stdout",
     "output_type": "stream",
     "text": [
      "Total predictions: 7537\n",
      "Unique raw predictions: 7482\n",
      "Raw Scores Descriptive Statistics:\n",
      "count    7537.000000\n",
      "mean        0.554769\n",
      "std         0.491885\n",
      "min        -0.066101\n",
      "25%         0.305133\n",
      "50%         0.382566\n",
      "75%         0.546759\n",
      "max         5.523019\n",
      "dtype: float64\n"
     ]
    },
    {
     "data": {
      "image/png": "[encoded data removed]",
      "text/plain": [
       "<Figure size 1000x600 with 1 Axes>"
      ]
     },
     "metadata": {},
     "output_type": "display_data"
    }
   ],
   "source": [
    "# Score distribution\n",
    "raw_scores_series = pd.Series(raw_predictions).round(6)\n",
    "print(\"Total predictions:\", len(raw_scores_series))\n",
    "print(\"Unique raw predictions:\", raw_scores_series.nunique())\n",
    "print(\"Raw Scores Descriptive Statistics:\")\n",
    "print(raw_scores_series.describe())\n",
    "plt.figure(figsize=(10,6))\n",
    "plt.hist(raw_scores_series, bins=50, edgecolor='k')\n",
    "plt.xlabel(\"Raw Predicted Score\")\n",
    "plt.ylabel(\"Frequency\")\n",
    "plt.title(\"Distribution of Raw Predicted Scores\")\n",
    "plt.show()"
   ]
  },
  {
   "cell_type": "code",
   "execution_count": 10,
   "id": "ee94f7d1",
   "metadata": {
    "execution": {
     "iopub.execute_input": "2025-04-10T07:59:25.783897Z",
     "iopub.status.busy": "2025-04-10T07:59:25.783560Z",
     "iopub.status.idle": "2025-04-10T07:59:26.717180Z",
     "shell.execute_reply": "2025-04-10T07:59:26.716235Z"
    },
    "papermill": {
     "duration": 0.939875,
     "end_time": "2025-04-10T07:59:26.718582",
     "exception": false,
     "start_time": "2025-04-10T07:59:25.778707",
     "status": "completed"
    },
    "tags": []
   },
   "outputs": [
    {
     "name": "stdout",
     "output_type": "stream",
     "text": [
      "Validation agreement accuracy: 0.6394582284549922\n"
     ]
    }
   ],
   "source": [
    "# Validation agreement\n",
    "test_map = dict(zip(test_df[\"clean_text\"], test_df[\"score\"]))\n",
    "val_df[\"less_toxic_clean\"] = val_df[\"less_toxic\"].apply(clean_text)\n",
    "val_df[\"more_toxic_clean\"] = val_df[\"more_toxic\"].apply(clean_text)\n",
    "\n",
    "def agree(row):\n",
    "    a = test_map.get(row[\"less_toxic_clean\"], None)\n",
    "    b = test_map.get(row[\"more_toxic_clean\"], None)\n",
    "    if a is None or b is None:\n",
    "        return None\n",
    "    return int(a < b)\n",
    "\n",
    "val_df[\"agreement\"] = val_df.apply(agree, axis=1)\n",
    "valid_agreement = val_df[\"agreement\"].dropna().mean()\n",
    "print(\"Validation agreement accuracy:\", valid_agreement)"
   ]
  }
 ],
 "metadata": {
  "kaggle": {
   "accelerator": "none",
   "dataSources": [
    {
     "databundleVersionId": 3445671,
     "sourceId": 27935,
     "sourceType": "competition"
    },
    {
     "datasetId": 7102506,
     "sourceId": 11350721,
     "sourceType": "datasetVersion"
    }
   ],
   "dockerImageVersionId": 31012,
   "isGpuEnabled": false,
   "isInternetEnabled": false,
   "language": "python",
   "sourceType": "notebook"
  },
  "kernelspec": {
   "display_name": "Python 3",
   "language": "python",
   "name": "python3"
  },
  "language_info": {
   "codemirror_mode": {
    "name": "ipython",
    "version": 3
   },
   "file_extension": ".py",
   "mimetype": "text/x-python",
   "name": "python",
   "nbconvert_exporter": "python",
   "pygments_lexer": "ipython3",
   "version": "3.11.11"
  },
  "papermill": {
   "default_parameters": {},
   "duration": 210.372017,
   "end_time": "2025-04-10T07:59:29.341863",
   "environment_variables": {},
   "exception": null,
   "input_path": "__notebook__.ipynb",
   "output_path": "__notebook__.ipynb",
   "parameters": {},
   "start_time": "2025-04-10T07:55:58.969846",
   "version": "2.6.0"
  }
 },
 "nbformat": 4,
 "nbformat_minor": 5
}
