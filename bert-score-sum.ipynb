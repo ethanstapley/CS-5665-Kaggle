{
 "cells": [
  {
   "cell_type": "code",
   "execution_count": 1,
   "id": "e805324e",
   "metadata": {
    "execution": {
     "iopub.execute_input": "2025-04-20T20:42:38.082713Z",
     "iopub.status.busy": "2025-04-20T20:42:38.082448Z",
     "iopub.status.idle": "2025-04-20T20:43:09.605421Z",
     "shell.execute_reply": "2025-04-20T20:43:09.604611Z"
    },
    "papermill": {
     "duration": 31.528792,
     "end_time": "2025-04-20T20:43:09.607999",
     "exception": false,
     "start_time": "2025-04-20T20:42:38.079207",
     "status": "completed"
    },
    "tags": []
   },
   "outputs": [
    {
     "name": "stdout",
     "output_type": "stream",
     "text": [
      "Using device: cuda\n"
     ]
    },
    {
     "name": "stderr",
     "output_type": "stream",
     "text": [
      "2025-04-20 20:42:54.868485: E external/local_xla/xla/stream_executor/cuda/cuda_fft.cc:477] Unable to register cuFFT factory: Attempting to register factory for plugin cuFFT when one has already been registered\n",
      "WARNING: All log messages before absl::InitializeLog() is called are written to STDERR\n",
      "E0000 00:00:1745181775.056274      19 cuda_dnn.cc:8310] Unable to register cuDNN factory: Attempting to register factory for plugin cuDNN when one has already been registered\n",
      "E0000 00:00:1745181775.111010      19 cuda_blas.cc:1418] Unable to register cuBLAS factory: Attempting to register factory for plugin cuBLAS when one has already been registered\n"
     ]
    },
    {
     "data": {
      "text/plain": [
       "BertForSequenceClassification(\n",
       "  (bert): BertModel(\n",
       "    (embeddings): BertEmbeddings(\n",
       "      (word_embeddings): Embedding(30522, 768, padding_idx=0)\n",
       "      (position_embeddings): Embedding(512, 768)\n",
       "      (token_type_embeddings): Embedding(2, 768)\n",
       "      (LayerNorm): LayerNorm((768,), eps=1e-12, elementwise_affine=True)\n",
       "      (dropout): Dropout(p=0.1, inplace=False)\n",
       "    )\n",
       "    (encoder): BertEncoder(\n",
       "      (layer): ModuleList(\n",
       "        (0-11): 12 x BertLayer(\n",
       "          (attention): BertAttention(\n",
       "            (self): BertSdpaSelfAttention(\n",
       "              (query): Linear(in_features=768, out_features=768, bias=True)\n",
       "              (key): Linear(in_features=768, out_features=768, bias=True)\n",
       "              (value): Linear(in_features=768, out_features=768, bias=True)\n",
       "              (dropout): Dropout(p=0.1, inplace=False)\n",
       "            )\n",
       "            (output): BertSelfOutput(\n",
       "              (dense): Linear(in_features=768, out_features=768, bias=True)\n",
       "              (LayerNorm): LayerNorm((768,), eps=1e-12, elementwise_affine=True)\n",
       "              (dropout): Dropout(p=0.1, inplace=False)\n",
       "            )\n",
       "          )\n",
       "          (intermediate): BertIntermediate(\n",
       "            (dense): Linear(in_features=768, out_features=3072, bias=True)\n",
       "            (intermediate_act_fn): GELUActivation()\n",
       "          )\n",
       "          (output): BertOutput(\n",
       "            (dense): Linear(in_features=3072, out_features=768, bias=True)\n",
       "            (LayerNorm): LayerNorm((768,), eps=1e-12, elementwise_affine=True)\n",
       "            (dropout): Dropout(p=0.1, inplace=False)\n",
       "          )\n",
       "        )\n",
       "      )\n",
       "    )\n",
       "    (pooler): BertPooler(\n",
       "      (dense): Linear(in_features=768, out_features=768, bias=True)\n",
       "      (activation): Tanh()\n",
       "    )\n",
       "  )\n",
       "  (dropout): Dropout(p=0.1, inplace=False)\n",
       "  (classifier): Linear(in_features=768, out_features=6, bias=True)\n",
       ")"
      ]
     },
     "execution_count": 1,
     "metadata": {},
     "output_type": "execute_result"
    }
   ],
   "source": [
    "import pandas as pd\n",
    "import torch\n",
    "from transformers import AutoTokenizer, AutoModelForSequenceClassification\n",
    "\n",
    "# Set device\n",
    "device = torch.device(\"cuda\" if torch.cuda.is_available() else \"cpu\")\n",
    "print(\"Using device:\", device)\n",
    "\n",
    "# Load fine-tuned BERT model\n",
    "model_path = \"/kaggle/input/bert-toxic-epoch1/other/default/1\"\n",
    "tokenizer = AutoTokenizer.from_pretrained(model_path)\n",
    "model = AutoModelForSequenceClassification.from_pretrained(model_path)\n",
    "model.to(device)\n",
    "model.eval()\n"
   ]
  },
  {
   "cell_type": "code",
   "execution_count": 2,
   "id": "345c39c7",
   "metadata": {
    "execution": {
     "iopub.execute_input": "2025-04-20T20:43:09.613644Z",
     "iopub.status.busy": "2025-04-20T20:43:09.612601Z",
     "iopub.status.idle": "2025-04-20T20:43:09.701388Z",
     "shell.execute_reply": "2025-04-20T20:43:09.700561Z"
    },
    "papermill": {
     "duration": 0.092516,
     "end_time": "2025-04-20T20:43:09.702614",
     "exception": false,
     "start_time": "2025-04-20T20:43:09.610098",
     "status": "completed"
    },
    "tags": []
   },
   "outputs": [
    {
     "name": "stdout",
     "output_type": "stream",
     "text": [
      "Sample:    comment_id                                               text\n",
      "0      114890  \"\\n \\n\\nGjalexei, you asked about whether ther...\n",
      "1      732895  Looks like be have an abuser , can you please ...\n",
      "2     1139051  I confess to having complete (and apparently b...\n",
      "3     1434512  \"\\n\\nFreud's ideas are certainly much discusse...\n",
      "4     2084821  It is not just you. This is a laundry list of ...\n"
     ]
    }
   ],
   "source": [
    "# Load comments to score\n",
    "test_df = pd.read_csv(\"/kaggle/input/jigsaw-toxic-severity-rating/comments_to_score.csv\")\n",
    "print(\"Sample:\", test_df.head())"
   ]
  },
  {
   "cell_type": "code",
   "execution_count": 3,
   "id": "6a6c607f",
   "metadata": {
    "execution": {
     "iopub.execute_input": "2025-04-20T20:43:09.707168Z",
     "iopub.status.busy": "2025-04-20T20:43:09.706939Z",
     "iopub.status.idle": "2025-04-20T20:43:09.711719Z",
     "shell.execute_reply": "2025-04-20T20:43:09.711028Z"
    },
    "papermill": {
     "duration": 0.008307,
     "end_time": "2025-04-20T20:43:09.712821",
     "exception": false,
     "start_time": "2025-04-20T20:43:09.704514",
     "status": "completed"
    },
    "tags": []
   },
   "outputs": [],
   "source": [
    "# Weight each output label according to severity - most notebooks used this\n",
    "weights = weights = [.32, 1.82, .16, 1.5, .64, 1.5]  \n",
    "\n",
    "def predict_score(text):\n",
    "    inputs = tokenizer(text, truncation=True, padding=\"max_length\", max_length=256, return_tensors=\"pt\")\n",
    "    inputs = {k: v.to(device) for k, v in inputs.items()}\n",
    "    \n",
    "    with torch.no_grad():\n",
    "        logits = model(**inputs).logits\n",
    "        probs = torch.sigmoid(logits).squeeze().cpu().tolist()\n",
    "    \n",
    "    return sum(p * w for p, w in zip(probs, weights))\n"
   ]
  },
  {
   "cell_type": "code",
   "execution_count": 4,
   "id": "851cb6c6",
   "metadata": {
    "execution": {
     "iopub.execute_input": "2025-04-20T20:43:09.717268Z",
     "iopub.status.busy": "2025-04-20T20:43:09.717034Z",
     "iopub.status.idle": "2025-04-20T20:44:47.315516Z",
     "shell.execute_reply": "2025-04-20T20:44:47.314690Z"
    },
    "papermill": {
     "duration": 97.604893,
     "end_time": "2025-04-20T20:44:47.319590",
     "exception": false,
     "start_time": "2025-04-20T20:43:09.714697",
     "status": "completed"
    },
    "tags": []
   },
   "outputs": [
    {
     "name": "stdout",
     "output_type": "stream",
     "text": [
      "Scoring all test comments...\n",
      "Finished scoring.\n"
     ]
    }
   ],
   "source": [
    "print(\"Scoring all test comments...\")\n",
    "test_df[\"score\"] = test_df[\"text\"].apply(predict_score)\n",
    "print(\"Finished scoring.\")"
   ]
  },
  {
   "cell_type": "code",
   "execution_count": 5,
   "id": "32ac8465",
   "metadata": {
    "execution": {
     "iopub.execute_input": "2025-04-20T20:44:47.324301Z",
     "iopub.status.busy": "2025-04-20T20:44:47.324046Z",
     "iopub.status.idle": "2025-04-20T20:44:47.354123Z",
     "shell.execute_reply": "2025-04-20T20:44:47.353340Z"
    },
    "papermill": {
     "duration": 0.033773,
     "end_time": "2025-04-20T20:44:47.355328",
     "exception": false,
     "start_time": "2025-04-20T20:44:47.321555",
     "status": "completed"
    },
    "tags": []
   },
   "outputs": [
    {
     "name": "stdout",
     "output_type": "stream",
     "text": [
      "Saved submission.csv for Kaggle submission.\n"
     ]
    }
   ],
   "source": [
    "submission = test_df[[\"comment_id\", \"score\"]]\n",
    "submission.to_csv(\"submission.csv\", index=False)\n",
    "print(\"Saved submission.csv for Kaggle submission.\")"
   ]
  },
  {
   "cell_type": "code",
   "execution_count": 6,
   "id": "382aab26",
   "metadata": {
    "execution": {
     "iopub.execute_input": "2025-04-20T20:44:47.360041Z",
     "iopub.status.busy": "2025-04-20T20:44:47.359830Z",
     "iopub.status.idle": "2025-04-20T20:44:49.560530Z",
     "shell.execute_reply": "2025-04-20T20:44:49.559603Z"
    },
    "papermill": {
     "duration": 2.204446,
     "end_time": "2025-04-20T20:44:49.561754",
     "exception": false,
     "start_time": "2025-04-20T20:44:47.357308",
     "status": "completed"
    },
    "tags": []
   },
   "outputs": [
    {
     "name": "stdout",
     "output_type": "stream",
     "text": [
      "Validation agreement accuracy: 0.6933428605454329\n"
     ]
    }
   ],
   "source": [
    "import re\n",
    "\n",
    "# Load validation pairs\n",
    "val_df = pd.read_csv(\"/kaggle/input/jigsaw-toxic-severity-rating/validation_data.csv\")\n",
    "\n",
    "def clean_text(text):\n",
    "    text = text.strip().lower()\n",
    "    text = re.sub(r\"http\\\\S+\", \"\", text)\n",
    "    text = re.sub(r\"[^a-zA-Z0-9\\\\s]\", \"\", text)\n",
    "    return text\n",
    "\n",
    "test_df[\"clean_text\"] = test_df[\"text\"].apply(clean_text)\n",
    "test_map = dict(zip(test_df[\"clean_text\"], test_df[\"score\"]))\n",
    "\n",
    "val_df[\"less_toxic_clean\"] = val_df[\"less_toxic\"].apply(clean_text)\n",
    "val_df[\"more_toxic_clean\"] = val_df[\"more_toxic\"].apply(clean_text)\n",
    "\n",
    "def agree(row):\n",
    "    a = test_map.get(row[\"less_toxic_clean\"], None)\n",
    "    b = test_map.get(row[\"more_toxic_clean\"], None)\n",
    "    if a is None or b is None:\n",
    "        return None\n",
    "    return int(a < b)\n",
    "\n",
    "val_df[\"agreement\"] = val_df.apply(agree, axis=1)\n",
    "valid_agreement = val_df[\"agreement\"].dropna().mean()\n",
    "\n",
    "print(\"Validation agreement accuracy:\", valid_agreement)\n"
   ]
  },
  {
   "cell_type": "code",
   "execution_count": null,
   "id": "c40c4565",
   "metadata": {
    "papermill": {
     "duration": 0.001807,
     "end_time": "2025-04-20T20:44:49.565739",
     "exception": false,
     "start_time": "2025-04-20T20:44:49.563932",
     "status": "completed"
    },
    "tags": []
   },
   "outputs": [],
   "source": []
  }
 ],
 "metadata": {
  "kaggle": {
   "accelerator": "gpu",
   "dataSources": [
    {
     "databundleVersionId": 3445671,
     "isSourceIdPinned": false,
     "sourceId": 27935,
     "sourceType": "competition"
    },
    {
     "datasetId": 7102506,
     "sourceId": 11350721,
     "sourceType": "datasetVersion"
    },
    {
     "isSourceIdPinned": true,
     "modelId": 311729,
     "modelInstanceId": 291040,
     "sourceId": 348510,
     "sourceType": "modelInstanceVersion"
    }
   ],
   "dockerImageVersionId": 31012,
   "isGpuEnabled": true,
   "isInternetEnabled": false,
   "language": "python",
   "sourceType": "notebook"
  },
  "kernelspec": {
   "display_name": "Python 3",
   "language": "python",
   "name": "python3"
  },
  "language_info": {
   "codemirror_mode": {
    "name": "ipython",
    "version": 3
   },
   "file_extension": ".py",
   "mimetype": "text/x-python",
   "name": "python",
   "nbconvert_exporter": "python",
   "pygments_lexer": "ipython3",
   "version": "3.11.11"
  },
  "papermill": {
   "default_parameters": {},
   "duration": 139.23997,
   "end_time": "2025-04-20T20:44:53.235119",
   "environment_variables": {},
   "exception": null,
   "input_path": "__notebook__.ipynb",
   "output_path": "__notebook__.ipynb",
   "parameters": {},
   "start_time": "2025-04-20T20:42:33.995149",
   "version": "2.6.0"
  }
 },
 "nbformat": 4,
 "nbformat_minor": 5
}
