{
 "cells": [
  {
   "cell_type": "code",
   "execution_count": 1,
   "id": "f79ff855",
   "metadata": {
    "execution": {
     "iopub.execute_input": "2025-04-20T21:49:39.069623Z",
     "iopub.status.busy": "2025-04-20T21:49:39.069164Z",
     "iopub.status.idle": "2025-04-20T21:49:43.595352Z",
     "shell.execute_reply": "2025-04-20T21:49:43.594083Z"
    },
    "papermill": {
     "duration": 4.533183,
     "end_time": "2025-04-20T21:49:43.597094",
     "exception": false,
     "start_time": "2025-04-20T21:49:39.063911",
     "status": "completed"
    },
    "tags": []
   },
   "outputs": [],
   "source": [
    "from sklearn.ensemble import RandomForestRegressor\n",
    "from sklearn.pipeline import Pipeline\n",
    "from sklearn.feature_extraction.text import TfidfVectorizer\n",
    "from sklearn.pipeline import FeatureUnion\n",
    "from sklearn.base import BaseEstimator, TransformerMixin\n",
    "import pandas as pd\n",
    "import re"
   ]
  },
  {
   "cell_type": "code",
   "execution_count": 2,
   "id": "09bffcc7",
   "metadata": {
    "execution": {
     "iopub.execute_input": "2025-04-20T21:49:43.604365Z",
     "iopub.status.busy": "2025-04-20T21:49:43.603868Z",
     "iopub.status.idle": "2025-04-20T21:49:43.609402Z",
     "shell.execute_reply": "2025-04-20T21:49:43.608297Z"
    },
    "papermill": {
     "duration": 0.010821,
     "end_time": "2025-04-20T21:49:43.611079",
     "exception": false,
     "start_time": "2025-04-20T21:49:43.600258",
     "status": "completed"
    },
    "tags": []
   },
   "outputs": [],
   "source": [
    "def clean_text(text):\n",
    "    text = re.sub(r\"http\\S+\", \"\", text)\n",
    "    text = re.sub(r\"[^a-zA-Z0-9\\s]\", \"\", text)\n",
    "    return text"
   ]
  },
  {
   "cell_type": "code",
   "execution_count": 3,
   "id": "ca3aeff4",
   "metadata": {
    "execution": {
     "iopub.execute_input": "2025-04-20T21:49:43.618350Z",
     "iopub.status.busy": "2025-04-20T21:49:43.617450Z",
     "iopub.status.idle": "2025-04-20T21:49:43.624923Z",
     "shell.execute_reply": "2025-04-20T21:49:43.624102Z"
    },
    "papermill": {
     "duration": 0.012744,
     "end_time": "2025-04-20T21:49:43.626656",
     "exception": false,
     "start_time": "2025-04-20T21:49:43.613912",
     "status": "completed"
    },
    "tags": []
   },
   "outputs": [],
   "source": [
    "class TextFeatures(BaseEstimator, TransformerMixin):\n",
    "    def fit(self, X, y=None):\n",
    "        self.swear_list = {\"fuck\", \"shit\", \"bitch\", \"damn\", \"ass\", \"crap\", \"dick\"}\n",
    "        return self\n",
    "\n",
    "    def transform(self, X):\n",
    "        features = pd.DataFrame()\n",
    "        features[\"text_length\"] = X.apply(len)\n",
    "        features[\"word_count\"] = X.apply(lambda x: len(x.split()))\n",
    "        features[\"punct_count\"] = X.apply(lambda x: sum(1 for char in x if char in \"!?.,;:\"))\n",
    "        features[\"uppercase_ratio\"] = X.apply(lambda x: sum(1 for c in x if c.isupper()) / (len(x) + 1))\n",
    "        features[\"swear_word_count\"] = X.apply(lambda x: sum(1 for word in x.lower().split() if word in self.swear_list))\n",
    "        return features.values"
   ]
  },
  {
   "cell_type": "code",
   "execution_count": 4,
   "id": "33741f98",
   "metadata": {
    "execution": {
     "iopub.execute_input": "2025-04-20T21:49:43.633289Z",
     "iopub.status.busy": "2025-04-20T21:49:43.632963Z",
     "iopub.status.idle": "2025-04-20T21:49:47.530436Z",
     "shell.execute_reply": "2025-04-20T21:49:47.529289Z"
    },
    "papermill": {
     "duration": 3.902927,
     "end_time": "2025-04-20T21:49:47.532440",
     "exception": false,
     "start_time": "2025-04-20T21:49:43.629513",
     "status": "completed"
    },
    "tags": []
   },
   "outputs": [],
   "source": [
    "train_df = pd.read_csv(\"/kaggle/input/train-ranking/train.csv\")\n",
    "train_df[\"clean_text\"] = train_df[\"comment_text\"].apply(clean_text)\n",
    "label_cols = [\"toxic\", \"severe_toxic\", \"obscene\", \"threat\", \"insult\", \"identity_hate\"]\n",
    "weights = [.32, 1.82, .16, 1.5, .64, 1.5]\n",
    "train_df[\"severity\"] = train_df[label_cols].dot(weights)"
   ]
  },
  {
   "cell_type": "code",
   "execution_count": 5,
   "id": "1479b9e6",
   "metadata": {
    "execution": {
     "iopub.execute_input": "2025-04-20T21:49:47.542449Z",
     "iopub.status.busy": "2025-04-20T21:49:47.541950Z",
     "iopub.status.idle": "2025-04-20T21:49:47.633817Z",
     "shell.execute_reply": "2025-04-20T21:49:47.632678Z"
    },
    "papermill": {
     "duration": 0.099336,
     "end_time": "2025-04-20T21:49:47.635767",
     "exception": false,
     "start_time": "2025-04-20T21:49:47.536431",
     "status": "completed"
    },
    "tags": []
   },
   "outputs": [],
   "source": [
    "toxic_df = train_df[train_df[\"severity\"] > 0]\n",
    "non_toxic_df = train_df[train_df[\"severity\"] == 0].sample(n=len(toxic_df), random_state=42)\n",
    "balanced_df = pd.concat([toxic_df, non_toxic_df]).sample(frac=1.0, random_state=42).reset_index(drop=True)"
   ]
  },
  {
   "cell_type": "code",
   "execution_count": 6,
   "id": "6ee008c4",
   "metadata": {
    "execution": {
     "iopub.execute_input": "2025-04-20T21:49:47.642418Z",
     "iopub.status.busy": "2025-04-20T21:49:47.642040Z",
     "iopub.status.idle": "2025-04-20T21:49:47.648160Z",
     "shell.execute_reply": "2025-04-20T21:49:47.647147Z"
    },
    "papermill": {
     "duration": 0.011348,
     "end_time": "2025-04-20T21:49:47.649910",
     "exception": false,
     "start_time": "2025-04-20T21:49:47.638562",
     "status": "completed"
    },
    "tags": []
   },
   "outputs": [],
   "source": [
    "tfidf = TfidfVectorizer(max_features=5000, stop_words='english')\n",
    "combined_features = FeatureUnion([\n",
    "    (\"tfidf\", tfidf),\n",
    "    (\"extra_features\", TextFeatures())\n",
    "])\n",
    "\n",
    "pipeline = Pipeline([\n",
    "    (\"features\", combined_features),\n",
    "    (\"rf\", RandomForestRegressor(n_estimators=100, max_depth=10, random_state=42))\n",
    "])"
   ]
  },
  {
   "cell_type": "code",
   "execution_count": 7,
   "id": "d46d7e8f",
   "metadata": {
    "execution": {
     "iopub.execute_input": "2025-04-20T21:49:47.658185Z",
     "iopub.status.busy": "2025-04-20T21:49:47.657292Z",
     "iopub.status.idle": "2025-04-20T21:50:58.766451Z",
     "shell.execute_reply": "2025-04-20T21:50:58.765302Z"
    },
    "papermill": {
     "duration": 71.115549,
     "end_time": "2025-04-20T21:50:58.768478",
     "exception": false,
     "start_time": "2025-04-20T21:49:47.652929",
     "status": "completed"
    },
    "tags": []
   },
   "outputs": [],
   "source": [
    "pipeline.fit(balanced_df[\"clean_text\"], balanced_df[\"severity\"])\n",
    "\n",
    "test_df = pd.read_csv(\"/kaggle/input/jigsaw-toxic-severity-rating/comments_to_score.csv\")\n",
    "test_df[\"clean_text\"] = test_df[\"text\"].apply(clean_text)\n",
    "rf_scores = pipeline.predict(test_df[\"clean_text\"])"
   ]
  },
  {
   "cell_type": "code",
   "execution_count": 8,
   "id": "e6bb1b13",
   "metadata": {
    "execution": {
     "iopub.execute_input": "2025-04-20T21:50:58.775087Z",
     "iopub.status.busy": "2025-04-20T21:50:58.774783Z",
     "iopub.status.idle": "2025-04-20T21:50:58.807367Z",
     "shell.execute_reply": "2025-04-20T21:50:58.806275Z"
    },
    "papermill": {
     "duration": 0.037675,
     "end_time": "2025-04-20T21:50:58.809001",
     "exception": false,
     "start_time": "2025-04-20T21:50:58.771326",
     "status": "completed"
    },
    "tags": []
   },
   "outputs": [],
   "source": [
    "test_df[\"score\"] = rf_scores\n",
    "submission = test_df[[\"comment_id\", \"score\"]]\n",
    "submission.to_csv(\"submission.csv\", index=False)"
   ]
  },
  {
   "cell_type": "code",
   "execution_count": 9,
   "id": "e79928e9",
   "metadata": {
    "execution": {
     "iopub.execute_input": "2025-04-20T21:50:58.815792Z",
     "iopub.status.busy": "2025-04-20T21:50:58.815457Z",
     "iopub.status.idle": "2025-04-20T21:51:00.411553Z",
     "shell.execute_reply": "2025-04-20T21:51:00.410310Z"
    },
    "papermill": {
     "duration": 1.601639,
     "end_time": "2025-04-20T21:51:00.413403",
     "exception": false,
     "start_time": "2025-04-20T21:50:58.811764",
     "status": "completed"
    },
    "tags": []
   },
   "outputs": [
    {
     "name": "stdout",
     "output_type": "stream",
     "text": [
      "Validation Agreement Accuracy: 0.5481241759558911\n"
     ]
    }
   ],
   "source": [
    "val_df = pd.read_csv(\"/kaggle/input/jigsaw-toxic-severity-rating/validation_data.csv\")\n",
    "test_df[\"clean_text\"] = test_df[\"text\"].apply(clean_text)\n",
    "test_map = dict(zip(test_df[\"clean_text\"], test_df[\"score\"]))\n",
    "val_df[\"less_toxic_clean\"] = val_df[\"less_toxic\"].apply(clean_text)\n",
    "val_df[\"more_toxic_clean\"] = val_df[\"more_toxic\"].apply(clean_text)\n",
    "\n",
    "def agree(row):\n",
    "    a = test_map.get(row[\"less_toxic_clean\"], None)\n",
    "    b = test_map.get(row[\"more_toxic_clean\"], None)\n",
    "    if a is None or b is None:\n",
    "        return None\n",
    "    return int(a < b)\n",
    "\n",
    "val_df[\"agreement\"] = val_df.apply(agree, axis=1)\n",
    "valid_agreement = val_df[\"agreement\"].dropna().mean()\n",
    "\n",
    "print(\"Validation Agreement Accuracy:\", valid_agreement)"
   ]
  }
 ],
 "metadata": {
  "kaggle": {
   "accelerator": "none",
   "dataSources": [
    {
     "databundleVersionId": 3445671,
     "sourceId": 27935,
     "sourceType": "competition"
    },
    {
     "datasetId": 7102506,
     "sourceId": 11350721,
     "sourceType": "datasetVersion"
    }
   ],
   "dockerImageVersionId": 31012,
   "isGpuEnabled": false,
   "isInternetEnabled": false,
   "language": "python",
   "sourceType": "notebook"
  },
  "kernelspec": {
   "display_name": "Python 3",
   "language": "python",
   "name": "python3"
  },
  "language_info": {
   "codemirror_mode": {
    "name": "ipython",
    "version": 3
   },
   "file_extension": ".py",
   "mimetype": "text/x-python",
   "name": "python",
   "nbconvert_exporter": "python",
   "pygments_lexer": "ipython3",
   "version": "3.11.11"
  },
  "papermill": {
   "default_parameters": {},
   "duration": 89.141019,
   "end_time": "2025-04-20T21:51:01.243724",
   "environment_variables": {},
   "exception": null,
   "input_path": "__notebook__.ipynb",
   "output_path": "__notebook__.ipynb",
   "parameters": {},
   "start_time": "2025-04-20T21:49:32.102705",
   "version": "2.6.0"
  }
 },
 "nbformat": 4,
 "nbformat_minor": 5
}
