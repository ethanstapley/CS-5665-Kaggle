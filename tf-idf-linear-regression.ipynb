{
 "cells": [
  {
   "cell_type": "code",
   "execution_count": 1,
   "id": "d9dbc809",
   "metadata": {
    "execution": {
     "iopub.execute_input": "2025-04-20T18:30:45.248380Z",
     "iopub.status.busy": "2025-04-20T18:30:45.247983Z",
     "iopub.status.idle": "2025-04-20T18:30:49.151744Z",
     "shell.execute_reply": "2025-04-20T18:30:49.150790Z"
    },
    "papermill": {
     "duration": 3.910283,
     "end_time": "2025-04-20T18:30:49.153669",
     "exception": false,
     "start_time": "2025-04-20T18:30:45.243386",
     "status": "completed"
    },
    "tags": []
   },
   "outputs": [],
   "source": [
    "# Imports\n",
    "import pandas as pd\n",
    "import numpy as np\n",
    "import re\n",
    "import matplotlib.pyplot as plt\n",
    "from scipy.stats import rankdata\n",
    "\n",
    "from sklearn.feature_extraction.text import TfidfVectorizer\n",
    "from sklearn.linear_model import LinearRegression\n",
    "from sklearn.pipeline import FeatureUnion, Pipeline\n",
    "from sklearn.base import BaseEstimator, TransformerMixin\n",
    "from scipy.stats import rankdata"
   ]
  },
  {
   "cell_type": "code",
   "execution_count": 2,
   "id": "1b97857c",
   "metadata": {
    "execution": {
     "iopub.execute_input": "2025-04-20T18:30:49.161630Z",
     "iopub.status.busy": "2025-04-20T18:30:49.161117Z",
     "iopub.status.idle": "2025-04-20T18:30:49.166612Z",
     "shell.execute_reply": "2025-04-20T18:30:49.165716Z"
    },
    "papermill": {
     "duration": 0.011336,
     "end_time": "2025-04-20T18:30:49.168239",
     "exception": false,
     "start_time": "2025-04-20T18:30:49.156903",
     "status": "completed"
    },
    "tags": []
   },
   "outputs": [],
   "source": [
    "def clean_text(text):\n",
    "    text = re.sub(r\"http\\S+\", \"\", text)\n",
    "    text = re.sub(r\"[^a-zA-Z0-9\\s]\", \"\", text)\n",
    "    return text"
   ]
  },
  {
   "cell_type": "code",
   "execution_count": 3,
   "id": "985e70ed",
   "metadata": {
    "execution": {
     "iopub.execute_input": "2025-04-20T18:30:49.175480Z",
     "iopub.status.busy": "2025-04-20T18:30:49.175071Z",
     "iopub.status.idle": "2025-04-20T18:30:49.183588Z",
     "shell.execute_reply": "2025-04-20T18:30:49.182592Z"
    },
    "papermill": {
     "duration": 0.01408,
     "end_time": "2025-04-20T18:30:49.185313",
     "exception": false,
     "start_time": "2025-04-20T18:30:49.171233",
     "status": "completed"
    },
    "tags": []
   },
   "outputs": [],
   "source": [
    "class TextFeatures(BaseEstimator, TransformerMixin):\n",
    "    def __init__(self, swear_list=None):\n",
    "        self.swear_list = swear_list  # Store input directly\n",
    "\n",
    "    def fit(self, X, y=None):\n",
    "        if self.swear_list is None:\n",
    "            # Set it in fit so __init__ stays clean\n",
    "            self.swear_list_ = {\"fuck\", \"shit\", \"bitch\", \"damn\", \"ass\", \"crap\", \"dick\"}\n",
    "        else:\n",
    "            self.swear_list_ = set(self.swear_list)\n",
    "        return self\n",
    "\n",
    "    def transform(self, X):\n",
    "        features = pd.DataFrame()\n",
    "        features[\"text_length\"] = X.apply(len)\n",
    "        features[\"word_count\"] = X.apply(lambda x: len(x.split()))\n",
    "        punctuations = \"!?.,;:\"\n",
    "        features[\"punct_count\"] = X.apply(lambda x: sum(1 for char in x if char in punctuations))\n",
    "        features[\"uppercase_ratio\"] = X.apply(lambda x: sum(1 for c in x if c.isupper()) / (len(x) + 1))\n",
    "        features[\"swear_word_count\"] = X.apply(\n",
    "            lambda x: sum(1 for word in x.lower().split() if word in self.swear_list_)\n",
    "        )\n",
    "        return features.values\n"
   ]
  },
  {
   "cell_type": "code",
   "execution_count": 4,
   "id": "59217a64",
   "metadata": {
    "execution": {
     "iopub.execute_input": "2025-04-20T18:30:49.192628Z",
     "iopub.status.busy": "2025-04-20T18:30:49.192246Z",
     "iopub.status.idle": "2025-04-20T18:30:54.810118Z",
     "shell.execute_reply": "2025-04-20T18:30:54.809109Z"
    },
    "papermill": {
     "duration": 5.624013,
     "end_time": "2025-04-20T18:30:54.812313",
     "exception": false,
     "start_time": "2025-04-20T18:30:49.188300",
     "status": "completed"
    },
    "tags": []
   },
   "outputs": [],
   "source": [
    "train_df = pd.read_csv(\"/kaggle/input/train-ranking/train.csv\")\n",
    "val_df = pd.read_csv(\"/kaggle/input/jigsaw-toxic-severity-rating/validation_data.csv\")\n",
    "\n",
    "# Clean text\n",
    "train_df[\"clean_text\"] = train_df[\"comment_text\"].apply(clean_text)\n",
    "val_less = val_df[\"less_toxic\"].apply(clean_text)\n",
    "val_more = val_df[\"more_toxic\"].apply(clean_text)\n",
    "val_comments = pd.concat([val_less, val_more]).unique()\n",
    "train_df = train_df[~train_df[\"clean_text\"].isin(val_comments)]\n"
   ]
  },
  {
   "cell_type": "code",
   "execution_count": 5,
   "id": "c85434d7",
   "metadata": {
    "execution": {
     "iopub.execute_input": "2025-04-20T18:30:54.819356Z",
     "iopub.status.busy": "2025-04-20T18:30:54.819035Z",
     "iopub.status.idle": "2025-04-20T18:30:54.915021Z",
     "shell.execute_reply": "2025-04-20T18:30:54.913470Z"
    },
    "papermill": {
     "duration": 0.102189,
     "end_time": "2025-04-20T18:30:54.917390",
     "exception": false,
     "start_time": "2025-04-20T18:30:54.815201",
     "status": "completed"
    },
    "tags": []
   },
   "outputs": [],
   "source": [
    "# Create severity scores\n",
    "label_cols = [\"toxic\", \"severe_toxic\", \"obscene\", \"threat\", \"insult\", \"identity_hate\"]\n",
    "weights = [.32, 1.82, .16, 1.5, .64, 1.5]\n",
    "train_df[\"severity\"] = train_df[label_cols].dot(weights)\n",
    "\n",
    "# Balance the dataset\n",
    "toxic_df = train_df[train_df[\"severity\"] > 0]\n",
    "non_toxic_df = train_df[train_df[\"severity\"] == 0].sample(n=len(toxic_df), random_state=42)\n",
    "balanced_df = pd.concat([toxic_df, non_toxic_df]).sample(frac=1.0, random_state=42).reset_index(drop=True)"
   ]
  },
  {
   "cell_type": "code",
   "execution_count": 6,
   "id": "e080ab68",
   "metadata": {
    "execution": {
     "iopub.execute_input": "2025-04-20T18:30:54.927885Z",
     "iopub.status.busy": "2025-04-20T18:30:54.927152Z",
     "iopub.status.idle": "2025-04-20T18:30:55.282257Z",
     "shell.execute_reply": "2025-04-20T18:30:55.281278Z"
    },
    "papermill": {
     "duration": 0.362514,
     "end_time": "2025-04-20T18:30:55.283960",
     "exception": false,
     "start_time": "2025-04-20T18:30:54.921446",
     "status": "completed"
    },
    "tags": []
   },
   "outputs": [
    {
     "name": "stdout",
     "output_type": "stream",
     "text": [
      "Balanced Training Severity Statistics:\n",
      "count    25460.000000\n",
      "mean         0.518731\n",
      "std          0.859296\n",
      "min          0.000000\n",
      "25%          0.000000\n",
      "50%          0.080000\n",
      "75%          0.800000\n",
      "max          5.940000\n",
      "Name: severity, dtype: float64\n"
     ]
    },
    {
     "data": {
      "image/png": "[encoded data removed]",
      "text/plain": [
       "<Figure size 1000x600 with 1 Axes>"
      ]
     },
     "metadata": {},
     "output_type": "display_data"
    }
   ],
   "source": [
    "# Diagnostic: Check severity distribution\n",
    "print(\"Balanced Training Severity Statistics:\")\n",
    "print(balanced_df[\"severity\"].describe())\n",
    "plt.figure(figsize=(10,6))\n",
    "plt.hist(balanced_df[\"severity\"], bins=50, edgecolor='k')\n",
    "plt.xlabel(\"Severity\")\n",
    "plt.ylabel(\"Frequency\")\n",
    "plt.title(\"Balanced Training Data Severity Distribution\")\n",
    "plt.show()"
   ]
  },
  {
   "cell_type": "code",
   "execution_count": null,
   "id": "056b2f25",
   "metadata": {
    "execution": {
     "iopub.execute_input": "2025-04-20T18:30:55.293664Z",
     "iopub.status.busy": "2025-04-20T18:30:55.293278Z",
     "iopub.status.idle": "2025-04-20T18:32:07.899885Z",
     "shell.execute_reply": "2025-04-20T18:32:07.898628Z"
    },
    "papermill": {
     "duration": 72.616737,
     "end_time": "2025-04-20T18:32:07.904412",
     "exception": false,
     "start_time": "2025-04-20T18:30:55.287675",
     "status": "completed"
    },
    "tags": []
   },
   "outputs": [
    {
     "name": "stdout",
     "output_type": "stream",
     "text": [
      "Fitting 3 folds for each of 16 candidates, totalling 48 fits\n",
      "Best Parameters:\n",
      "{'features__tfidf__max_df': 0.75, 'features__tfidf__min_df': 3, 'features__tfidf__ngram_range': (1, 1), 'linear__fit_intercept': False}\n"
     ]
    }
   ],
   "source": [
    "from sklearn.model_selection import GridSearchCV\n",
    "\n",
    "# Build pipeline\n",
    "tfidf = TfidfVectorizer(max_features=5000, stop_words='english')\n",
    "combined_features = FeatureUnion([\n",
    "    (\"tfidf\", tfidf),\n",
    "    (\"extra_features\", TextFeatures())\n",
    "])\n",
    "pipeline = Pipeline([\n",
    "    (\"features\", combined_features),\n",
    "    (\"linear\", LinearRegression())\n",
    "])\n",
    "\n",
    "# hyperparameter grid\n",
    "param_grid = {\n",
    "    'features__tfidf__min_df': [1, 3],\n",
    "    'features__tfidf__max_df': [0.75, 1.0],\n",
    "    'features__tfidf__ngram_range': [(1,1), (1,2)],\n",
    "    'linear__fit_intercept': [True, False],\n",
    "}\n",
    "\n",
    "# simple scoring method: R^2\n",
    "grid = GridSearchCV(pipeline, param_grid, scoring='r2', cv=3, verbose=2, n_jobs=-1)\n",
    "\n",
    "# Train on balanced data\n",
    "X_train = balanced_df[\"clean_text\"]\n",
    "y_train = balanced_df[\"severity\"]\n",
    "grid.fit(X_train, y_train)\n",
    "\n",
    "print(\"Best Parameters:\")\n",
    "print(grid.best_params_)\n",
    "\n",
    "# Replace pipeline with the best model\n",
    "pipeline = grid.best_estimator_\n"
   ]
  },
  {
   "cell_type": "code",
   "execution_count": null,
   "id": "fb6273f5",
   "metadata": {
    "execution": {
     "iopub.execute_input": "2025-04-20T18:32:07.913728Z",
     "iopub.status.busy": "2025-04-20T18:32:07.912648Z",
     "iopub.status.idle": "2025-04-20T18:32:08.852925Z",
     "shell.execute_reply": "2025-04-20T18:32:08.851798Z"
    },
    "papermill": {
     "duration": 0.946922,
     "end_time": "2025-04-20T18:32:08.854829",
     "exception": false,
     "start_time": "2025-04-20T18:32:07.907907",
     "status": "completed"
    },
    "tags": []
   },
   "outputs": [
    {
     "name": "stdout",
     "output_type": "stream",
     "text": [
      "<class 'pandas.core.frame.DataFrame'>\n",
      "RangeIndex: 7537 entries, 0 to 7536\n",
      "Data columns (total 2 columns):\n",
      " #   Column      Non-Null Count  Dtype \n",
      "---  ------      --------------  ----- \n",
      " 0   comment_id  7537 non-null   int64 \n",
      " 1   text        7537 non-null   object\n",
      "dtypes: int64(1), object(1)\n",
      "memory usage: 117.9+ KB\n",
      "None\n",
      "Submission file saved as submission.csv (with rank-normalized scores)\n"
     ]
    }
   ],
   "source": [
    "from scipy.stats import rankdata\n",
    "\n",
    "# Predict on test set\n",
    "test_df = pd.read_csv(\"/kaggle/input/jigsaw-toxic-severity-rating/comments_to_score.csv\")\n",
    "print(test_df.info())\n",
    "\n",
    "test_df[\"clean_text\"] = test_df[\"text\"].apply(clean_text)\n",
    "raw_predictions = pipeline.predict(test_df[\"clean_text\"])\n",
    "\n",
    "# Convert raw predictions to unique ranks\n",
    "ranked_scores = rankdata(raw_predictions, method=\"ordinal\")\n",
    "test_df[\"score\"] = ranked_scores\n",
    "\n",
    "submission = test_df[[\"comment_id\", \"score\"]]\n",
    "submission.to_csv(\"submission.csv\", index=False)\n",
    "print(\"Submission file saved as submission.csv (with rank-normalized scores)\")\n"
   ]
  },
  {
   "cell_type": "code",
   "execution_count": 9,
   "id": "f2780b97",
   "metadata": {
    "execution": {
     "iopub.execute_input": "2025-04-20T18:32:08.863061Z",
     "iopub.status.busy": "2025-04-20T18:32:08.862768Z",
     "iopub.status.idle": "2025-04-20T18:32:09.109606Z",
     "shell.execute_reply": "2025-04-20T18:32:09.108616Z"
    },
    "papermill": {
     "duration": 0.252957,
     "end_time": "2025-04-20T18:32:09.111410",
     "exception": false,
     "start_time": "2025-04-20T18:32:08.858453",
     "status": "completed"
    },
    "tags": []
   },
   "outputs": [
    {
     "name": "stdout",
     "output_type": "stream",
     "text": [
      "Total predictions: 7537\n",
      "Unique raw predictions: 7517\n",
      "Raw Scores Descriptive Statistics:\n",
      "count    7537.000000\n",
      "mean        0.627507\n",
      "std         0.680073\n",
      "min        -0.644475\n",
      "25%         0.163008\n",
      "50%         0.445522\n",
      "75%         0.892142\n",
      "max         5.816262\n",
      "dtype: float64\n"
     ]
    },
    {
     "data": {
      "image/png": "[encoded data removed]",
      "text/plain": [
       "<Figure size 1000x600 with 1 Axes>"
      ]
     },
     "metadata": {},
     "output_type": "display_data"
    }
   ],
   "source": [
    "# Score distribution\n",
    "raw_scores_series = pd.Series(raw_predictions).round(6)\n",
    "print(\"Total predictions:\", len(raw_scores_series))\n",
    "print(\"Unique raw predictions:\", raw_scores_series.nunique())\n",
    "print(\"Raw Scores Descriptive Statistics:\")\n",
    "print(raw_scores_series.describe())\n",
    "plt.figure(figsize=(10,6))\n",
    "plt.hist(raw_scores_series, bins=50, edgecolor='k')\n",
    "plt.xlabel(\"Raw Predicted Score\")\n",
    "plt.ylabel(\"Frequency\")\n",
    "plt.title(\"Distribution of Raw Predicted Scores\")\n",
    "plt.show()"
   ]
  },
  {
   "cell_type": "code",
   "execution_count": 10,
   "id": "a9dea74e",
   "metadata": {
    "execution": {
     "iopub.execute_input": "2025-04-20T18:32:09.121502Z",
     "iopub.status.busy": "2025-04-20T18:32:09.120461Z",
     "iopub.status.idle": "2025-04-20T18:32:10.054779Z",
     "shell.execute_reply": "2025-04-20T18:32:10.053460Z"
    },
    "papermill": {
     "duration": 0.940959,
     "end_time": "2025-04-20T18:32:10.056451",
     "exception": false,
     "start_time": "2025-04-20T18:32:09.115492",
     "status": "completed"
    },
    "tags": []
   },
   "outputs": [
    {
     "name": "stdout",
     "output_type": "stream",
     "text": [
      "Validation agreement accuracy: 0.6641495864796836\n"
     ]
    }
   ],
   "source": [
    "# Validation agreement\n",
    "test_map = dict(zip(test_df[\"clean_text\"], test_df[\"score\"]))\n",
    "val_df[\"less_toxic_clean\"] = val_df[\"less_toxic\"].apply(clean_text)\n",
    "val_df[\"more_toxic_clean\"] = val_df[\"more_toxic\"].apply(clean_text)\n",
    "\n",
    "def agree(row):\n",
    "    a = test_map.get(row[\"less_toxic_clean\"], None)\n",
    "    b = test_map.get(row[\"more_toxic_clean\"], None)\n",
    "    if a is None or b is None:\n",
    "        return None\n",
    "    return int(a < b)\n",
    "\n",
    "val_df[\"agreement\"] = val_df.apply(agree, axis=1)\n",
    "valid_agreement = val_df[\"agreement\"].dropna().mean()\n",
    "print(\"Validation agreement accuracy:\", valid_agreement)"
   ]
  }
 ],
 "metadata": {
  "kaggle": {
   "accelerator": "none",
   "dataSources": [
    {
     "databundleVersionId": 3445671,
     "sourceId": 27935,
     "sourceType": "competition"
    },
    {
     "datasetId": 7102506,
     "sourceId": 11350721,
     "sourceType": "datasetVersion"
    }
   ],
   "dockerImageVersionId": 31012,
   "isGpuEnabled": false,
   "isInternetEnabled": false,
   "language": "python",
   "sourceType": "notebook"
  },
  "kernelspec": {
   "display_name": "Python 3",
   "language": "python",
   "name": "python3"
  },
  "language_info": {
   "codemirror_mode": {
    "name": "ipython",
    "version": 3
   },
   "file_extension": ".py",
   "mimetype": "text/x-python",
   "name": "python",
   "nbconvert_exporter": "python",
   "pygments_lexer": "ipython3",
   "version": "3.11.11"
  },
  "papermill": {
   "default_parameters": {},
   "duration": 93.576735,
   "end_time": "2025-04-20T18:32:12.680802",
   "environment_variables": {},
   "exception": null,
   "input_path": "__notebook__.ipynb",
   "output_path": "__notebook__.ipynb",
   "parameters": {},
   "start_time": "2025-04-20T18:30:39.104067",
   "version": "2.6.0"
  }
 },
 "nbformat": 4,
 "nbformat_minor": 5
}
