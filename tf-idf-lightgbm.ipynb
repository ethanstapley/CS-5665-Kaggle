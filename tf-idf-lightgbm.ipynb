{
 "cells": [
  {
   "cell_type": "code",
   "execution_count": 1,
   "id": "2d04b576",
   "metadata": {
    "execution": {
     "iopub.execute_input": "2025-04-20T18:55:50.939813Z",
     "iopub.status.busy": "2025-04-20T18:55:50.939407Z",
     "iopub.status.idle": "2025-04-20T18:56:00.587179Z",
     "shell.execute_reply": "2025-04-20T18:56:00.586198Z"
    },
    "papermill": {
     "duration": 9.654578,
     "end_time": "2025-04-20T18:56:00.589109",
     "exception": false,
     "start_time": "2025-04-20T18:55:50.934531",
     "status": "completed"
    },
    "tags": []
   },
   "outputs": [],
   "source": [
    "# Imports\n",
    "import pandas as pd\n",
    "import numpy as np\n",
    "import re\n",
    "import matplotlib.pyplot as plt\n",
    "from scipy.stats import rankdata\n",
    "\n",
    "from sklearn.feature_extraction.text import TfidfVectorizer\n",
    "from lightgbm import LGBMRegressor\n",
    "from sklearn.pipeline import FeatureUnion, Pipeline\n",
    "from sklearn.base import BaseEstimator, TransformerMixin\n",
    "from scipy.stats import rankdata"
   ]
  },
  {
   "cell_type": "code",
   "execution_count": 2,
   "id": "cf0b6e98",
   "metadata": {
    "execution": {
     "iopub.execute_input": "2025-04-20T18:56:00.597083Z",
     "iopub.status.busy": "2025-04-20T18:56:00.595651Z",
     "iopub.status.idle": "2025-04-20T18:56:00.601386Z",
     "shell.execute_reply": "2025-04-20T18:56:00.600369Z"
    },
    "papermill": {
     "duration": 0.010931,
     "end_time": "2025-04-20T18:56:00.603183",
     "exception": false,
     "start_time": "2025-04-20T18:56:00.592252",
     "status": "completed"
    },
    "tags": []
   },
   "outputs": [],
   "source": [
    "def clean_text(text):\n",
    "    text = re.sub(r\"http\\S+\", \"\", text)\n",
    "    text = re.sub(r\"[^a-zA-Z0-9\\s]\", \"\", text)\n",
    "    return text"
   ]
  },
  {
   "cell_type": "code",
   "execution_count": null,
   "id": "e3a918f1",
   "metadata": {
    "execution": {
     "iopub.execute_input": "2025-04-20T18:56:00.610633Z",
     "iopub.status.busy": "2025-04-20T18:56:00.610307Z",
     "iopub.status.idle": "2025-04-20T18:56:00.617847Z",
     "shell.execute_reply": "2025-04-20T18:56:00.616937Z"
    },
    "papermill": {
     "duration": 0.013069,
     "end_time": "2025-04-20T18:56:00.619509",
     "exception": false,
     "start_time": "2025-04-20T18:56:00.606440",
     "status": "completed"
    },
    "tags": []
   },
   "outputs": [],
   "source": [
    "class TextFeatures(BaseEstimator, TransformerMixin):\n",
    "    def __init__(self, swear_list=None):\n",
    "        self.swear_list = swear_list \n",
    "\n",
    "    def fit(self, X, y=None):\n",
    "        if self.swear_list is None:\n",
    "            self.swear_list_ = {\"fuck\", \"shit\", \"bitch\", \"damn\", \"ass\", \"crap\", \"dick\"}\n",
    "        else:\n",
    "            self.swear_list_ = set(self.swear_list)\n",
    "        return self\n",
    "\n",
    "    def transform(self, X):\n",
    "        features = pd.DataFrame()\n",
    "        features[\"text_length\"] = X.apply(len)\n",
    "        features[\"word_count\"] = X.apply(lambda x: len(x.split()))\n",
    "        punctuations = \"!?.,;:\"\n",
    "        features[\"punct_count\"] = X.apply(lambda x: sum(1 for char in x if char in punctuations))\n",
    "        features[\"uppercase_ratio\"] = X.apply(lambda x: sum(1 for c in x if c.isupper()) / (len(x) + 1))\n",
    "        features[\"swear_word_count\"] = X.apply(\n",
    "            lambda x: sum(1 for word in x.lower().split() if word in self.swear_list_)\n",
    "        )\n",
    "        return features.values\n"
   ]
  },
  {
   "cell_type": "code",
   "execution_count": 4,
   "id": "11f7c0ea",
   "metadata": {
    "execution": {
     "iopub.execute_input": "2025-04-20T18:56:00.626899Z",
     "iopub.status.busy": "2025-04-20T18:56:00.626057Z",
     "iopub.status.idle": "2025-04-20T18:56:06.200574Z",
     "shell.execute_reply": "2025-04-20T18:56:06.199386Z"
    },
    "papermill": {
     "duration": 5.580069,
     "end_time": "2025-04-20T18:56:06.202432",
     "exception": false,
     "start_time": "2025-04-20T18:56:00.622363",
     "status": "completed"
    },
    "tags": []
   },
   "outputs": [],
   "source": [
    "train_df = pd.read_csv(\"/kaggle/input/train-ranking/train.csv\")\n",
    "val_df = pd.read_csv(\"/kaggle/input/jigsaw-toxic-severity-rating/validation_data.csv\")\n",
    "\n",
    "# Clean text\n",
    "train_df[\"clean_text\"] = train_df[\"comment_text\"].apply(clean_text)\n",
    "val_less = val_df[\"less_toxic\"].apply(clean_text)\n",
    "val_more = val_df[\"more_toxic\"].apply(clean_text)\n",
    "val_comments = pd.concat([val_less, val_more]).unique()\n",
    "train_df = train_df[~train_df[\"clean_text\"].isin(val_comments)]\n"
   ]
  },
  {
   "cell_type": "code",
   "execution_count": null,
   "id": "3e6e3526",
   "metadata": {
    "execution": {
     "iopub.execute_input": "2025-04-20T18:56:06.210434Z",
     "iopub.status.busy": "2025-04-20T18:56:06.209394Z",
     "iopub.status.idle": "2025-04-20T18:56:06.309671Z",
     "shell.execute_reply": "2025-04-20T18:56:06.308576Z"
    },
    "papermill": {
     "duration": 0.106163,
     "end_time": "2025-04-20T18:56:06.311432",
     "exception": false,
     "start_time": "2025-04-20T18:56:06.205269",
     "status": "completed"
    },
    "tags": []
   },
   "outputs": [],
   "source": [
    "# Create severity scores\n",
    "label_cols = [\"toxic\", \"severe_toxic\", \"obscene\", \"threat\", \"insult\", \"identity_hate\"]\n",
    "weights = [.32, 1.82, .16, 1.5, .64, 1.5]\n",
    "train_df[\"severity\"] = train_df[label_cols].dot(weights)\n",
    "\n",
    "toxic_df = train_df[train_df[\"severity\"] > 0]\n",
    "non_toxic_df = train_df[train_df[\"severity\"] == 0].sample(n=len(toxic_df), random_state=42)\n",
    "balanced_df = pd.concat([toxic_df, non_toxic_df]).sample(frac=1.0, random_state=42).reset_index(drop=True)"
   ]
  },
  {
   "cell_type": "code",
   "execution_count": 6,
   "id": "980306f9",
   "metadata": {
    "execution": {
     "iopub.execute_input": "2025-04-20T18:56:06.318038Z",
     "iopub.status.busy": "2025-04-20T18:56:06.317626Z",
     "iopub.status.idle": "2025-04-20T18:56:06.676944Z",
     "shell.execute_reply": "2025-04-20T18:56:06.675790Z"
    },
    "papermill": {
     "duration": 0.36478,
     "end_time": "2025-04-20T18:56:06.678824",
     "exception": false,
     "start_time": "2025-04-20T18:56:06.314044",
     "status": "completed"
    },
    "tags": []
   },
   "outputs": [
    {
     "name": "stdout",
     "output_type": "stream",
     "text": [
      "Balanced Training Severity Statistics:\n",
      "count    25460.000000\n",
      "mean         0.518731\n",
      "std          0.859296\n",
      "min          0.000000\n",
      "25%          0.000000\n",
      "50%          0.080000\n",
      "75%          0.800000\n",
      "max          5.940000\n",
      "Name: severity, dtype: float64\n"
     ]
    },
    {
     "data": {
      "image/png": "[encoded data removed]",
      "text/plain": [
       "<Figure size 1000x600 with 1 Axes>"
      ]
     },
     "metadata": {},
     "output_type": "display_data"
    }
   ],
   "source": [
    "# Diagnostic: Check severity distribution\n",
    "print(\"Balanced Training Severity Statistics:\")\n",
    "print(balanced_df[\"severity\"].describe())\n",
    "plt.figure(figsize=(10,6))\n",
    "plt.hist(balanced_df[\"severity\"], bins=50, edgecolor='k')\n",
    "plt.xlabel(\"Severity\")\n",
    "plt.ylabel(\"Frequency\")\n",
    "plt.title(\"Balanced Training Data Severity Distribution\")\n",
    "plt.show()"
   ]
  },
  {
   "cell_type": "code",
   "execution_count": 7,
   "id": "7cc12498",
   "metadata": {
    "execution": {
     "iopub.execute_input": "2025-04-20T18:56:06.688683Z",
     "iopub.status.busy": "2025-04-20T18:56:06.688360Z",
     "iopub.status.idle": "2025-04-20T18:56:15.792430Z",
     "shell.execute_reply": "2025-04-20T18:56:15.791293Z"
    },
    "papermill": {
     "duration": 9.111738,
     "end_time": "2025-04-20T18:56:15.794083",
     "exception": false,
     "start_time": "2025-04-20T18:56:06.682345",
     "status": "completed"
    },
    "tags": []
   },
   "outputs": [
    {
     "name": "stdout",
     "output_type": "stream",
     "text": [
      "[LightGBM] [Info] Auto-choosing col-wise multi-threading, the overhead of testing was 0.647378 seconds.\n",
      "You can set `force_col_wise=true` to remove the overhead.\n",
      "[LightGBM] [Info] Total Bins 125507\n",
      "[LightGBM] [Info] Number of data points in the train set: 25460, number of used features: 3678\n",
      "[LightGBM] [Info] Start training from score 0.518731\n"
     ]
    },
    {
     "data": {
      "text/html": [
       "<style>#sk-container-id-1 {color: black;background-color: white;}#sk-container-id-1 pre{padding: 0;}#sk-container-id-1 div.sk-toggleable {background-color: white;}#sk-container-id-1 label.sk-toggleable__label {cursor: pointer;display: block;width: 100%;margin-bottom: 0;padding: 0.3em;box-sizing: border-box;text-align: center;}#sk-container-id-1 label.sk-toggleable__label-arrow:before {content: \"▸\";float: left;margin-right: 0.25em;color: #696969;}#sk-container-id-1 label.sk-toggleable__label-arrow:hover:before {color: black;}#sk-container-id-1 div.sk-estimator:hover label.sk-toggleable__label-arrow:before {color: black;}#sk-container-id-1 div.sk-toggleable__content {max-height: 0;max-width: 0;overflow: hidden;text-align: left;background-color: #f0f8ff;}#sk-container-id-1 div.sk-toggleable__content pre {margin: 0.2em;color: black;border-radius: 0.25em;background-color: #f0f8ff;}#sk-container-id-1 input.sk-toggleable__control:checked~div.sk-toggleable__content {max-height: 200px;max-width: 100%;overflow: auto;}#sk-container-id-1 input.sk-toggleable__control:checked~label.sk-toggleable__label-arrow:before {content: \"▾\";}#sk-container-id-1 div.sk-estimator input.sk-toggleable__control:checked~label.sk-toggleable__label {background-color: #d4ebff;}#sk-container-id-1 div.sk-label input.sk-toggleable__control:checked~label.sk-toggleable__label {background-color: #d4ebff;}#sk-container-id-1 input.sk-hidden--visually {border: 0;clip: rect(1px 1px 1px 1px);clip: rect(1px, 1px, 1px, 1px);height: 1px;margin: -1px;overflow: hidden;padding: 0;position: absolute;width: 1px;}#sk-container-id-1 div.sk-estimator {font-family: monospace;background-color: #f0f8ff;border: 1px dotted black;border-radius: 0.25em;box-sizing: border-box;margin-bottom: 0.5em;}#sk-container-id-1 div.sk-estimator:hover {background-color: #d4ebff;}#sk-container-id-1 div.sk-parallel-item::after {content: \"\";width: 100%;border-bottom: 1px solid gray;flex-grow: 1;}#sk-container-id-1 div.sk-label:hover label.sk-toggleable__label {background-color: #d4ebff;}#sk-container-id-1 div.sk-serial::before {content: \"\";position: absolute;border-left: 1px solid gray;box-sizing: border-box;top: 0;bottom: 0;left: 50%;z-index: 0;}#sk-container-id-1 div.sk-serial {display: flex;flex-direction: column;align-items: center;background-color: white;padding-right: 0.2em;padding-left: 0.2em;position: relative;}#sk-container-id-1 div.sk-item {position: relative;z-index: 1;}#sk-container-id-1 div.sk-parallel {display: flex;align-items: stretch;justify-content: center;background-color: white;position: relative;}#sk-container-id-1 div.sk-item::before, #sk-container-id-1 div.sk-parallel-item::before {content: \"\";position: absolute;border-left: 1px solid gray;box-sizing: border-box;top: 0;bottom: 0;left: 50%;z-index: -1;}#sk-container-id-1 div.sk-parallel-item {display: flex;flex-direction: column;z-index: 1;position: relative;background-color: white;}#sk-container-id-1 div.sk-parallel-item:first-child::after {align-self: flex-end;width: 50%;}#sk-container-id-1 div.sk-parallel-item:last-child::after {align-self: flex-start;width: 50%;}#sk-container-id-1 div.sk-parallel-item:only-child::after {width: 0;}#sk-container-id-1 div.sk-dashed-wrapped {border: 1px dashed gray;margin: 0 0.4em 0.5em 0.4em;box-sizing: border-box;padding-bottom: 0.4em;background-color: white;}#sk-container-id-1 div.sk-label label {font-family: monospace;font-weight: bold;display: inline-block;line-height: 1.2em;}#sk-container-id-1 div.sk-label-container {text-align: center;}#sk-container-id-1 div.sk-container {/* jupyter's `normalize.less` sets `[hidden] { display: none; }` but bootstrap.min.css set `[hidden] { display: none !important; }` so we also need the `!important` here to be able to override the default hidden behavior on the sphinx rendered scikit-learn.org. See: https://github.com/scikit-learn/scikit-learn/issues/21755 */display: inline-block !important;position: relative;}#sk-container-id-1 div.sk-text-repr-fallback {display: none;}</style><div id=\"sk-container-id-1\" class=\"sk-top-container\"><div class=\"sk-text-repr-fallback\"><pre>Pipeline(steps=[(&#x27;features&#x27;,\n",
       "                 FeatureUnion(transformer_list=[(&#x27;tfidf&#x27;,\n",
       "                                                 TfidfVectorizer(max_features=5000,\n",
       "                                                                 stop_words=&#x27;english&#x27;)),\n",
       "                                                (&#x27;extra_features&#x27;,\n",
       "                                                 TextFeatures())])),\n",
       "                (&#x27;lgbm&#x27;, LGBMRegressor(random_state=42))])</pre><b>In a Jupyter environment, please rerun this cell to show the HTML representation or trust the notebook. <br />On GitHub, the HTML representation is unable to render, please try loading this page with nbviewer.org.</b></div><div class=\"sk-container\" hidden><div class=\"sk-item sk-dashed-wrapped\"><div class=\"sk-label-container\"><div class=\"sk-label sk-toggleable\"><input class=\"sk-toggleable__control sk-hidden--visually\" id=\"sk-estimator-id-1\" type=\"checkbox\" ><label for=\"sk-estimator-id-1\" class=\"sk-toggleable__label sk-toggleable__label-arrow\">Pipeline</label><div class=\"sk-toggleable__content\"><pre>Pipeline(steps=[(&#x27;features&#x27;,\n",
       "                 FeatureUnion(transformer_list=[(&#x27;tfidf&#x27;,\n",
       "                                                 TfidfVectorizer(max_features=5000,\n",
       "                                                                 stop_words=&#x27;english&#x27;)),\n",
       "                                                (&#x27;extra_features&#x27;,\n",
       "                                                 TextFeatures())])),\n",
       "                (&#x27;lgbm&#x27;, LGBMRegressor(random_state=42))])</pre></div></div></div><div class=\"sk-serial\"><div class=\"sk-item sk-dashed-wrapped\"><div class=\"sk-label-container\"><div class=\"sk-label sk-toggleable\"><input class=\"sk-toggleable__control sk-hidden--visually\" id=\"sk-estimator-id-2\" type=\"checkbox\" ><label for=\"sk-estimator-id-2\" class=\"sk-toggleable__label sk-toggleable__label-arrow\">features: FeatureUnion</label><div class=\"sk-toggleable__content\"><pre>FeatureUnion(transformer_list=[(&#x27;tfidf&#x27;,\n",
       "                                TfidfVectorizer(max_features=5000,\n",
       "                                                stop_words=&#x27;english&#x27;)),\n",
       "                               (&#x27;extra_features&#x27;, TextFeatures())])</pre></div></div></div><div class=\"sk-parallel\"><div class=\"sk-parallel-item\"><div class=\"sk-item\"><div class=\"sk-label-container\"><div class=\"sk-label sk-toggleable\"><label>tfidf</label></div></div><div class=\"sk-serial\"><div class=\"sk-item\"><div class=\"sk-estimator sk-toggleable\"><input class=\"sk-toggleable__control sk-hidden--visually\" id=\"sk-estimator-id-3\" type=\"checkbox\" ><label for=\"sk-estimator-id-3\" class=\"sk-toggleable__label sk-toggleable__label-arrow\">TfidfVectorizer</label><div class=\"sk-toggleable__content\"><pre>TfidfVectorizer(max_features=5000, stop_words=&#x27;english&#x27;)</pre></div></div></div></div></div></div><div class=\"sk-parallel-item\"><div class=\"sk-item\"><div class=\"sk-label-container\"><div class=\"sk-label sk-toggleable\"><label>extra_features</label></div></div><div class=\"sk-serial\"><div class=\"sk-item\"><div class=\"sk-estimator sk-toggleable\"><input class=\"sk-toggleable__control sk-hidden--visually\" id=\"sk-estimator-id-4\" type=\"checkbox\" ><label for=\"sk-estimator-id-4\" class=\"sk-toggleable__label sk-toggleable__label-arrow\">TextFeatures</label><div class=\"sk-toggleable__content\"><pre>TextFeatures()</pre></div></div></div></div></div></div></div></div><div class=\"sk-item\"><div class=\"sk-estimator sk-toggleable\"><input class=\"sk-toggleable__control sk-hidden--visually\" id=\"sk-estimator-id-5\" type=\"checkbox\" ><label for=\"sk-estimator-id-5\" class=\"sk-toggleable__label sk-toggleable__label-arrow\">LGBMRegressor</label><div class=\"sk-toggleable__content\"><pre>LGBMRegressor(random_state=42)</pre></div></div></div></div></div></div></div>"
      ],
      "text/plain": [
       "Pipeline(steps=[('features',\n",
       "                 FeatureUnion(transformer_list=[('tfidf',\n",
       "                                                 TfidfVectorizer(max_features=5000,\n",
       "                                                                 stop_words='english')),\n",
       "                                                ('extra_features',\n",
       "                                                 TextFeatures())])),\n",
       "                ('lgbm', LGBMRegressor(random_state=42))])"
      ]
     },
     "execution_count": 7,
     "metadata": {},
     "output_type": "execute_result"
    }
   ],
   "source": [
    "tfidf = TfidfVectorizer(max_features=5000, stop_words='english')\n",
    "combined_features = FeatureUnion([\n",
    "    (\"tfidf\", tfidf),\n",
    "    (\"extra_features\", TextFeatures())\n",
    "])\n",
    "\n",
    "# Build pipeline\n",
    "pipeline = Pipeline([\n",
    "    (\"features\", combined_features),\n",
    "    (\"lgbm\", LGBMRegressor(n_estimators=100, learning_rate=0.1, num_leaves=31, random_state=42))\n",
    "])\n",
    "\n",
    "# Train on balanced data\n",
    "X_train = balanced_df[\"clean_text\"]\n",
    "y_train = balanced_df[\"severity\"]\n",
    "pipeline.fit(X_train, y_train)\n"
   ]
  },
  {
   "cell_type": "code",
   "execution_count": null,
   "id": "98266f19",
   "metadata": {
    "execution": {
     "iopub.execute_input": "2025-04-20T18:56:15.802879Z",
     "iopub.status.busy": "2025-04-20T18:56:15.802471Z",
     "iopub.status.idle": "2025-04-20T18:56:16.718043Z",
     "shell.execute_reply": "2025-04-20T18:56:16.716970Z"
    },
    "papermill": {
     "duration": 0.921772,
     "end_time": "2025-04-20T18:56:16.719661",
     "exception": false,
     "start_time": "2025-04-20T18:56:15.797889",
     "status": "completed"
    },
    "tags": []
   },
   "outputs": [
    {
     "name": "stdout",
     "output_type": "stream",
     "text": [
      "<class 'pandas.core.frame.DataFrame'>\n",
      "RangeIndex: 7537 entries, 0 to 7536\n",
      "Data columns (total 2 columns):\n",
      " #   Column      Non-Null Count  Dtype \n",
      "---  ------      --------------  ----- \n",
      " 0   comment_id  7537 non-null   int64 \n",
      " 1   text        7537 non-null   object\n",
      "dtypes: int64(1), object(1)\n",
      "memory usage: 117.9+ KB\n",
      "None\n",
      "Submission file saved as submission.csv (with rank-normalized scores)\n"
     ]
    }
   ],
   "source": [
    "from scipy.stats import rankdata\n",
    "\n",
    "# Predict on test set\n",
    "test_df = pd.read_csv(\"/kaggle/input/jigsaw-toxic-severity-rating/comments_to_score.csv\")\n",
    "print(test_df.info())\n",
    "\n",
    "test_df[\"clean_text\"] = test_df[\"text\"].apply(clean_text)\n",
    "raw_predictions = pipeline.predict(test_df[\"clean_text\"])\n",
    "\n",
    "# Convert raw predictions to unique ranks\n",
    "ranked_scores = rankdata(raw_predictions, method=\"ordinal\")\n",
    "test_df[\"score\"] = ranked_scores\n",
    "\n",
    "submission = test_df[[\"comment_id\", \"score\"]]\n",
    "submission.to_csv(\"submission.csv\", index=False)\n",
    "print(\"Submission file saved as submission.csv (with rank-normalized scores)\")\n"
   ]
  },
  {
   "cell_type": "code",
   "execution_count": 9,
   "id": "55231b06",
   "metadata": {
    "execution": {
     "iopub.execute_input": "2025-04-20T18:56:16.729366Z",
     "iopub.status.busy": "2025-04-20T18:56:16.728166Z",
     "iopub.status.idle": "2025-04-20T18:56:16.967282Z",
     "shell.execute_reply": "2025-04-20T18:56:16.966369Z"
    },
    "papermill": {
     "duration": 0.245279,
     "end_time": "2025-04-20T18:56:16.968773",
     "exception": false,
     "start_time": "2025-04-20T18:56:16.723494",
     "status": "completed"
    },
    "tags": []
   },
   "outputs": [
    {
     "name": "stdout",
     "output_type": "stream",
     "text": [
      "Total predictions: 7537\n",
      "Unique raw predictions: 6525\n",
      "Raw Scores Descriptive Statistics:\n",
      "count    7537.000000\n",
      "mean        0.596423\n",
      "std         0.649955\n",
      "min        -0.111716\n",
      "25%         0.125074\n",
      "50%         0.351953\n",
      "75%         0.841539\n",
      "max         5.201918\n",
      "dtype: float64\n"
     ]
    },
    {
     "data": {
      "image/png": "[encoded data removed]",
      "text/plain": [
       "<Figure size 1000x600 with 1 Axes>"
      ]
     },
     "metadata": {},
     "output_type": "display_data"
    }
   ],
   "source": [
    "# Score distribution\n",
    "raw_scores_series = pd.Series(raw_predictions).round(6)\n",
    "print(\"Total predictions:\", len(raw_scores_series))\n",
    "print(\"Unique raw predictions:\", raw_scores_series.nunique())\n",
    "print(\"Raw Scores Descriptive Statistics:\")\n",
    "print(raw_scores_series.describe())\n",
    "plt.figure(figsize=(10,6))\n",
    "plt.hist(raw_scores_series, bins=50, edgecolor='k')\n",
    "plt.xlabel(\"Raw Predicted Score\")\n",
    "plt.ylabel(\"Frequency\")\n",
    "plt.title(\"Distribution of Raw Predicted Scores\")\n",
    "plt.show()"
   ]
  },
  {
   "cell_type": "code",
   "execution_count": 10,
   "id": "e850e7bd",
   "metadata": {
    "execution": {
     "iopub.execute_input": "2025-04-20T18:56:16.979423Z",
     "iopub.status.busy": "2025-04-20T18:56:16.978953Z",
     "iopub.status.idle": "2025-04-20T18:56:17.961604Z",
     "shell.execute_reply": "2025-04-20T18:56:17.960340Z"
    },
    "papermill": {
     "duration": 0.989632,
     "end_time": "2025-04-20T18:56:17.963316",
     "exception": false,
     "start_time": "2025-04-20T18:56:16.973684",
     "status": "completed"
    },
    "tags": []
   },
   "outputs": [
    {
     "name": "stdout",
     "output_type": "stream",
     "text": [
      "Validation agreement accuracy: 0.664988613208678\n"
     ]
    }
   ],
   "source": [
    "# Validation agreement\n",
    "test_map = dict(zip(test_df[\"clean_text\"], test_df[\"score\"]))\n",
    "val_df[\"less_toxic_clean\"] = val_df[\"less_toxic\"].apply(clean_text)\n",
    "val_df[\"more_toxic_clean\"] = val_df[\"more_toxic\"].apply(clean_text)\n",
    "\n",
    "def agree(row):\n",
    "    a = test_map.get(row[\"less_toxic_clean\"], None)\n",
    "    b = test_map.get(row[\"more_toxic_clean\"], None)\n",
    "    if a is None or b is None:\n",
    "        return None\n",
    "    return int(a < b)\n",
    "\n",
    "val_df[\"agreement\"] = val_df.apply(agree, axis=1)\n",
    "valid_agreement = val_df[\"agreement\"].dropna().mean()\n",
    "print(\"Validation agreement accuracy:\", valid_agreement)"
   ]
  }
 ],
 "metadata": {
  "kaggle": {
   "accelerator": "none",
   "dataSources": [
    {
     "databundleVersionId": 3445671,
     "sourceId": 27935,
     "sourceType": "competition"
    },
    {
     "datasetId": 7102506,
     "sourceId": 11350721,
     "sourceType": "datasetVersion"
    }
   ],
   "dockerImageVersionId": 31012,
   "isGpuEnabled": false,
   "isInternetEnabled": false,
   "language": "python",
   "sourceType": "notebook"
  },
  "kernelspec": {
   "display_name": "Python 3",
   "language": "python",
   "name": "python3"
  },
  "language_info": {
   "codemirror_mode": {
    "name": "ipython",
    "version": 3
   },
   "file_extension": ".py",
   "mimetype": "text/x-python",
   "name": "python",
   "nbconvert_exporter": "python",
   "pygments_lexer": "ipython3",
   "version": "3.11.11"
  },
  "papermill": {
   "default_parameters": {},
   "duration": 33.306914,
   "end_time": "2025-04-20T18:56:18.991262",
   "environment_variables": {},
   "exception": null,
   "input_path": "__notebook__.ipynb",
   "output_path": "__notebook__.ipynb",
   "parameters": {},
   "start_time": "2025-04-20T18:55:45.684348",
   "version": "2.6.0"
  }
 },
 "nbformat": 4,
 "nbformat_minor": 5
}
